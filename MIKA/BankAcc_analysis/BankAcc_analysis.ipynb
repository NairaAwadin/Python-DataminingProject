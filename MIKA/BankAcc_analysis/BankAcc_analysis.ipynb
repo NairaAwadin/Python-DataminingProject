{
 "cells": [
  {
   "cell_type": "markdown",
   "id": "0dcb9480-a8d7-4ed2-bcce-0612df30b283",
   "metadata": {},
   "source": [
    "# Generer IBAN a partir de BANK INFO"
   ]
  },
  {
   "cell_type": "markdown",
   "id": "8225def1-3870-4589-9cf3-8d99fd7bdab2",
   "metadata": {},
   "source": [
    "### Comment nettoyer si une ligne n’est pas interprétable ?\n",
    "\n",
    "##### Je suppose que ce type d’erreur devrait être traité au niveau de la saisie utilisateur.S’il y a un glitch dans le système et qu’une ligne n’est pas valide, mais qu’on ne peut pas identifier précisément lequel des quatre champs (code banque, code agence, numéro de compte bancaire, clé RIB) pose problème, on supprime l’ensemble des quatre lignes du bloc concerné.Dans ce cas, on signale une erreur en indiquant la première ligne invalide détectée à la personne en charge des données (avec un message clair et un identifiant de bloc).\n",
    "______________________________________________________________________________________________________________________________________________________________________________________\n",
    "#### (Niveau de nettoyage des données — avant traitement)\n",
    "##### 1) On ne garde que les chiffres, les lettres (avec accents), les espaces entre mots et l’apostrophe (') ; tous les autres caractères sont supprimés.\n",
    "##### 2) (Integration de NLP techniques)On ajoute des fonctions de **stemming** et de **suppression des stopwords** **uniquement sur les libellés/étiquettes** (jamais sur les valeurs) pour tolérer des entrées comme « BANCAIREZ » → « BANCAIRE » ou « banqueee » → « BANQUE ».\n",
    "##### 4) Si une ligne ne contient aucun chiffre ni lettre, elle est ignorée.\n",
    "##### 3) Éviter la suppression silencieuse de données : si certaines lignes restent non interprétables, qu’il y a duplication ou manque de données, le programme signale à l’utilisateur **quelle** ligne est détectée en erreur.\n",
    "\n",
    "#### (Niveau de traitement / calcul de l’IBAN)\n",
    "##### 1) Trouver le **BBAN** et convertir toutes les lettres en chiffres (selon la table de conversion).\n",
    "##### 2) Calculer l’IBAN par 98 − (int(BBAN) mod 97) ; le processus est découpé en plusieurs petits morceaux pour réduire la charge de calcul, et la fonction est structurée de manière récursive.\n",
    "##### 3) Enregistré les ibans dans un fichier (en CSV 3 colonnes ligne,IBAN,INFO)"
   ]
  },
  {
   "cell_type": "code",
   "execution_count": 51,
   "id": "58b22124-affe-425a-878a-52e3ba8dc03b",
   "metadata": {},
   "outputs": [],
   "source": [
    "import re\n",
    "import nltk\n",
    "from nltk.corpus import stopwords\n",
    "from nltk.stem.snowball import SnowballStemmer\n",
    "#libraries for removing stopwords and stemming"
   ]
  },
  {
   "cell_type": "code",
   "execution_count": 388,
   "id": "ad029cce-5ef2-469f-ba11-0f9dbf32361e",
   "metadata": {},
   "outputs": [],
   "source": [
    "def preprocess_french_nltk(text: str) -> str:\n",
    "    stemmer = SnowballStemmer(\"french\")\n",
    "    stop_fr = set(stopwords.words(\"french\"))\n",
    "    tokens = re.findall(r\"[A-Za-zÀ-ÖØ-öø-ÿ]+\", text.lower())\n",
    "    tokens = [t for t in tokens if t not in stop_fr]\n",
    "    stems  = [stemmer.stem(t) for t in tokens]\n",
    "    return (\" \".join(stems)).upper()"
   ]
  },
  {
   "cell_type": "code",
   "execution_count": 254,
   "id": "f00228a3-0b58-4525-bf39-e32cd4c3980b",
   "metadata": {},
   "outputs": [],
   "source": [
    "#Read file\n",
    "txt = open(\"bankaccount.txt\").read()\n",
    "#print(txt)"
   ]
  },
  {
   "cell_type": "code",
   "execution_count": 277,
   "id": "afe3546b-7c9e-4eef-9bb3-af9dbf425882",
   "metadata": {},
   "outputs": [],
   "source": [
    "def iban2int(iban):\n",
    "    new_iban = \"\"\n",
    "    for c in iban.upper() :\n",
    "        if c.isdigit():\n",
    "            new_iban += c\n",
    "        elif c.isalpha():\n",
    "            new_iban += str(ord(c)-55)\n",
    "    return new_iban\n",
    "\n",
    "#iban2int(\"3000401026796233790HH21FR00\")"
   ]
  },
  {
   "cell_type": "code",
   "execution_count": 284,
   "id": "ab04f1f1-77de-415e-a258-405b162e9640",
   "metadata": {},
   "outputs": [],
   "source": [
    "def chunk_calculate_key(r=0,converted_iban=None):\n",
    "    #print(type(converted_iban))\n",
    "    if len(converted_iban) > 9:\n",
    "        return chunk_calculate_key(r= (r*(10**9) + int(converted_iban[:9]))%97,\n",
    "                                                       converted_iban=converted_iban[9:])\n",
    "    else :\n",
    "        r = 98 - ((r*(10**len(converted_iban)) + int(converted_iban))%97)\n",
    "        if r < 10 :\n",
    "            return f\"0{r}\"\n",
    "        else :\n",
    "            return r\n",
    "#chunk_calculate_key(converted_iban = \"3000401026796233790171721152700\")  "
   ]
  },
  {
   "cell_type": "code",
   "execution_count": 405,
   "id": "5db3efca-0d7e-4bdf-96ed-5b4f4cf65c65",
   "metadata": {
    "scrolled": true
   },
   "outputs": [],
   "source": [
    "#import pandas as pd\n",
    "def generate_ibans(txt=None):\n",
    "    cleaned_txt = txt.split(\"\\n\")\n",
    "    acc_holder = []\n",
    "    accs = []\n",
    "    ibans = {} # key -> lines from txt that's used to generate iban, value -> iban number\n",
    "    #clean text then generate iban\n",
    "    for i_line,line in enumerate(cleaned_txt) :\n",
    "        if not bool(re.search(r\"[A-Za-z0-9]\", line)) : # if no letter nor number in the line, we skip\n",
    "            continue\n",
    "        #cleaning part\n",
    "        cleaned_txt[i_line] = line.split(\"\\t\")\n",
    "        for i_word,word in enumerate(cleaned_txt[i_line]):\n",
    "            #keep only uppercase letters and numbers\n",
    "            if i_word == 0 :\n",
    "                cleaned_txt[i_line][i_word] = preprocess_french_nltk(text = \"\".join([ch for ch in word.upper() if ch.isalpha() or \n",
    "                                                                          ch.isdigit() or \n",
    "                                                                            ch == \" \" or ch ==\"'\"]))\n",
    "            else :\n",
    "                cleaned_txt[i_line][i_word] = \"\".join([ch for ch in word.upper() if (ch.isalpha() or ch.isdigit())])\n",
    "                \n",
    "        #generate iban part\n",
    "        #print(cleaned_txt)\n",
    "        acc_holder.append(cleaned_txt[i_line])\n",
    "        #print(len(acc_holder))\n",
    "        if len(acc_holder)%4 == 0:# if we read 4 lines\n",
    "            acc_data = {} # store data in a dictionary\n",
    "            checks = [0,0,0,0] # check if an account has complete 4 infos\n",
    "            #print(acc_holder)\n",
    "            for i_data, data in enumerate(acc_holder) :\n",
    "                #print(data[0])\n",
    "\n",
    "                #Check si tous les info sont présentes\n",
    "                if \"COD\" in data[0] and \"BANQU\" in data[0] :\n",
    "                    acc_data[\"CODE BANQUE\"] = data[1]\n",
    "                    checks[0] = 1\n",
    "                elif \"COD\" in data[0] and \"AGENC\" in data[0] :\n",
    "                    acc_data[\"CODE AGENCE\"] = data[1]\n",
    "                    checks[1] = 1\n",
    "                elif \"NUMERO\" in data[0] and \"COMPT\" in data[0] and \"BANCAIR\" in data[0] :\n",
    "                    acc_data[\"NUMERO DE COMPTE BANCAIRE\"] = data[1]\n",
    "                    checks[2] = 1\n",
    "                elif \"CHIFFR\" in data[0] and \"INDIQU\" in data[0] and \"NATIONAL\" in data[0] :\n",
    "                    acc_data[\"CHIFFRE D'INDICATIF NATIONAL\"] = data[1]\n",
    "                    checks[3] = 1\n",
    "\n",
    "            if 0 in checks :\n",
    "                print(checks)\n",
    "                print(acc_holder)\n",
    "                return f\"Incomplete data in lines({i_line-2}-{i_line+1})\"\n",
    "\n",
    "            #Calculate ibans\n",
    "            bban = f\"{acc_data[\"CODE BANQUE\"]}{acc_data[\"CODE AGENCE\"]}{acc_data[\"NUMERO DE COMPTE BANCAIRE\"]}{acc_data[\"CHIFFRE D'INDICATIF NATIONAL\"]}\"\n",
    "            #print(bban)\n",
    "            calculated_iban = f\"FR{chunk_calculate_key(converted_iban = f\"{iban2int(bban+\"FR00\")}\")}\"+bban\n",
    "            ibans[f\"{i_line-2}-{i_line+1}\"] = f\"{calculated_iban}\"\n",
    "\n",
    "            #restructure accounts info\n",
    "            elements = \"\"\n",
    "            for element in acc_holder :\n",
    "                elements += \" \".join(element) + \"\\n\"\n",
    "            accs.append(elements)\n",
    "\n",
    "            #reset acc holder \n",
    "            acc_holder = []      \n",
    "    return ibans,accs\n",
    "\n",
    "#generated_ibans,accs = generate_ibans(txt)"
   ]
  },
  {
   "cell_type": "code",
   "execution_count": 289,
   "id": "3452a82e-bdf9-43d9-95a9-f1590a265595",
   "metadata": {},
   "outputs": [],
   "source": [
    "import pandas as pd"
   ]
  },
  {
   "cell_type": "code",
   "execution_count": 407,
   "id": "02c062f2-ae84-480b-bdf1-b575260fe1e9",
   "metadata": {},
   "outputs": [],
   "source": [
    "#cette fonction n'est que pour utiliser par l'executer directment par code,\n",
    "#ne concerne pas à la partie d'interface\n",
    "def save_ibans(fname = \"untitled\", ibans : dict = None,ibans_acc : list = None):\n",
    "    ibans_value = list(generated_ibans.values())\n",
    "    ibans_corresponding_lines = list(generated_ibans.keys())\n",
    "    pd_ibans = pd.DataFrame({\"Ligne\": ibans_corresponding_lines,\n",
    "                            \"IBAN\":ibans_value,\n",
    "                            \"INFO\":ibans_acc})\n",
    "    pd_ibans.to_csv(f\"{fname}.csv\", index=False)\n"
   ]
  },
  {
   "cell_type": "code",
   "execution_count": 411,
   "id": "423c1b87-69fc-463a-8119-50cb06098c50",
   "metadata": {},
   "outputs": [],
   "source": [
    "#save_ibans(fname = \"Calculated_IBANS\", ibans = generated_ibans, ibans_acc = accs)"
   ]
  },
  {
   "cell_type": "markdown",
   "id": "9fefc10c-4cd3-48e8-82e2-f65e014938f7",
   "metadata": {},
   "source": [
    "### INTERFACE "
   ]
  },
  {
   "cell_type": "code",
   "execution_count": 354,
   "id": "40ebf0a2-7c4b-42b5-9417-e65b140e508d",
   "metadata": {},
   "outputs": [],
   "source": [
    "import tkinter as tk \n",
    "from tkinter import filedialog"
   ]
  },
  {
   "cell_type": "code",
   "execution_count": 422,
   "id": "826d7fc0-b622-48c3-9f67-9edb785a50ea",
   "metadata": {},
   "outputs": [],
   "source": [
    "#FAIT 90% PAR CHATGPT, JE NE PREND PAS CREDIT\n",
    "\n",
    "def import_file():\n",
    "    path = filedialog.askopenfilename(\n",
    "        title=\"Choose a file\",\n",
    "        filetypes=[(\"Text files\", \"*.txt *.csv\"), (\"All files\", \"*.*\")]\n",
    "    )\n",
    "    if not path:\n",
    "        return\n",
    "    with open(path, \"r\", encoding=\"utf-8\") as f:\n",
    "        s = f.read()\n",
    "    input_txt.delete(\"1.0\", \"end\")\n",
    "    input_txt.insert(\"end\", s)\n",
    "\n",
    "def generate_iban_bttn():\n",
    "    # TODO: put your real logic here.\n",
    "    data = input_txt.get(\"1.0\", \"end-1c\")\n",
    "    generated_ibans,_ = generate_ibans(data)\n",
    "    dict_keys = list(generated_ibans.keys())\n",
    "    dict_values = list(generated_ibans.values())\n",
    "    composed_str = \"\"\n",
    "    for i in range(len(generated_ibans)-1):\n",
    "        composed_str += f\"{dict_keys[i]} : {dict_values[i]}\\n\"\n",
    "    output_txt.delete(\"1.0\", \"end\")\n",
    "    output_txt.insert(\"end\", f\"{composed_str}\")\n",
    "\n",
    "def save_output_bttn():\n",
    "    path = filedialog.asksaveasfilename(\n",
    "        title=\"Save output\",\n",
    "        defaultextension=\".txt\",\n",
    "        filetypes=[(\"Text files\", \"*.txt\"), (\"All files\", \"*.*\")]\n",
    "    )\n",
    "    if not path:\n",
    "        return\n",
    "    with open(path, \"w\", encoding=\"utf-8\") as f:\n",
    "        f.write(output_txt.get(\"1.0\", \"end-1c\"))\n",
    "\n",
    "root = tk.Tk()\n",
    "root.title(\"IBAN Generator\")\n",
    "root.geometry(\"1000x600\")\n",
    "\n",
    "# --- layout grid: top buttons (row 0), text areas (row 1) ---\n",
    "root.grid_columnconfigure(0, weight=1)\n",
    "root.grid_columnconfigure(1, weight=1)\n",
    "root.grid_rowconfigure(1, weight=1)\n",
    "\n",
    "# Top-left: Import\n",
    "tl = tk.Frame(root)\n",
    "tl.grid(row=0, column=0, sticky=\"w\", padx=10, pady=(10, 6))\n",
    "btn_import = tk.Button(tl, text=\"Import\", command=import_file)\n",
    "btn_import.pack()\n",
    "\n",
    "# Top-right: Generate + Save\n",
    "tr = tk.Frame(root)\n",
    "tr.grid(row=0, column=1, sticky=\"e\", padx=10, pady=(10, 6))\n",
    "btn_generate = tk.Button(tr, text=\"Generate\", command=generate_iban_bttn)\n",
    "btn_save     = tk.Button(tr, text=\"Save\", command=save_output_bttn)\n",
    "btn_generate.pack(side=\"left\", padx=(0, 6))\n",
    "btn_save.pack(side=\"left\")\n",
    "\n",
    "# Bottom: Input (left) and Output (right)\n",
    "input_txt = tk.Text(root, wrap=\"none\", bd=1, relief=\"solid\")\n",
    "output_txt = tk.Text(root, wrap=\"none\", bd=1, relief=\"solid\")\n",
    "\n",
    "input_txt.grid(row=1, column=0, sticky=\"nsew\", padx=(10, 5), pady=(6, 10))\n",
    "output_txt.grid(row=1, column=1, sticky=\"nsew\", padx=(5, 10), pady=(6, 10))\n",
    "\n",
    "root.mainloop()\n"
   ]
  },
  {
   "cell_type": "code",
   "execution_count": null,
   "id": "75850b9b-d64d-4363-a35b-c57b8f57ba48",
   "metadata": {},
   "outputs": [],
   "source": []
  },
  {
   "cell_type": "code",
   "execution_count": null,
   "id": "abbec3d3-eedd-44ab-893a-bf4ae9cf5c80",
   "metadata": {},
   "outputs": [],
   "source": []
  },
  {
   "cell_type": "code",
   "execution_count": null,
   "id": "fd2209ae-33aa-4b8d-8be0-ba62f6e12221",
   "metadata": {},
   "outputs": [],
   "source": []
  },
  {
   "cell_type": "code",
   "execution_count": null,
   "id": "949fe60e-a2ee-4a56-b7b9-be3d1f45232c",
   "metadata": {},
   "outputs": [],
   "source": []
  },
  {
   "cell_type": "code",
   "execution_count": null,
   "id": "5ed719c9-1673-4c4b-8d28-3b81f8fd44d4",
   "metadata": {},
   "outputs": [],
   "source": []
  },
  {
   "cell_type": "code",
   "execution_count": null,
   "id": "eff6e6d6-089c-4419-a226-bd115ab58340",
   "metadata": {},
   "outputs": [],
   "source": []
  },
  {
   "cell_type": "code",
   "execution_count": null,
   "id": "378739e5-25e5-4a55-844b-5f09cf853758",
   "metadata": {},
   "outputs": [],
   "source": []
  },
  {
   "cell_type": "code",
   "execution_count": null,
   "id": "b8939f12-efd9-4e45-a64f-9fc7cb617166",
   "metadata": {},
   "outputs": [],
   "source": []
  },
  {
   "cell_type": "code",
   "execution_count": null,
   "id": "bdab3268-8fbb-48ef-a9c0-91626430ebe3",
   "metadata": {},
   "outputs": [],
   "source": []
  },
  {
   "cell_type": "code",
   "execution_count": null,
   "id": "296c9487-1324-4859-89ce-90cd093632d1",
   "metadata": {},
   "outputs": [],
   "source": []
  },
  {
   "cell_type": "code",
   "execution_count": null,
   "id": "6cb203cd-0ccc-4302-be35-b3f439e002a1",
   "metadata": {},
   "outputs": [],
   "source": []
  },
  {
   "cell_type": "code",
   "execution_count": null,
   "id": "b3b44057-3a43-4a23-9937-a478f7f4931c",
   "metadata": {},
   "outputs": [],
   "source": []
  },
  {
   "cell_type": "code",
   "execution_count": null,
   "id": "dc82c528-4faf-4116-8f24-3126e3bbe89c",
   "metadata": {},
   "outputs": [],
   "source": []
  },
  {
   "cell_type": "code",
   "execution_count": null,
   "id": "3328e5c6-c433-4fe8-8b09-557a2ac65a7e",
   "metadata": {},
   "outputs": [],
   "source": []
  },
  {
   "cell_type": "code",
   "execution_count": null,
   "id": "43f4e620-219d-4bef-978e-8974d5238f4a",
   "metadata": {},
   "outputs": [],
   "source": []
  },
  {
   "cell_type": "code",
   "execution_count": null,
   "id": "16c765a9-c1f4-4745-b149-789e4058e542",
   "metadata": {},
   "outputs": [],
   "source": []
  },
  {
   "cell_type": "code",
   "execution_count": null,
   "id": "8973468e-7a4e-4274-ae4c-e05ceb424565",
   "metadata": {},
   "outputs": [],
   "source": []
  },
  {
   "cell_type": "code",
   "execution_count": null,
   "id": "0d94d0c4-3efd-4847-a46f-86aba10d037c",
   "metadata": {},
   "outputs": [],
   "source": []
  },
  {
   "cell_type": "code",
   "execution_count": null,
   "id": "c5cbe563-9b6b-4b74-9164-999e9ee9a8e5",
   "metadata": {},
   "outputs": [],
   "source": []
  },
  {
   "cell_type": "code",
   "execution_count": null,
   "id": "a254ac81-36fa-4660-916b-c2cf2d0a3905",
   "metadata": {},
   "outputs": [],
   "source": []
  },
  {
   "cell_type": "code",
   "execution_count": null,
   "id": "57e7e64f-97e9-4cf1-8460-0892a386635a",
   "metadata": {},
   "outputs": [],
   "source": []
  },
  {
   "cell_type": "code",
   "execution_count": null,
   "id": "ef73bc8d-c598-4128-816f-6e38eb57fdc4",
   "metadata": {},
   "outputs": [],
   "source": []
  },
  {
   "cell_type": "code",
   "execution_count": null,
   "id": "56d555a0-8899-4b2c-bbdd-ba154a50ccf3",
   "metadata": {},
   "outputs": [],
   "source": []
  },
  {
   "cell_type": "code",
   "execution_count": null,
   "id": "4abbad91-5874-4bf7-9e37-ce3b2401c924",
   "metadata": {},
   "outputs": [],
   "source": []
  },
  {
   "cell_type": "code",
   "execution_count": null,
   "id": "07359cbc-6e93-49ab-a035-feff691949e2",
   "metadata": {},
   "outputs": [],
   "source": []
  },
  {
   "cell_type": "code",
   "execution_count": null,
   "id": "1a2e382f-b702-4819-9592-0a7897c3d81c",
   "metadata": {},
   "outputs": [],
   "source": []
  },
  {
   "cell_type": "code",
   "execution_count": null,
   "id": "e83a0184-339e-42dc-88f9-97a5b8cf14e9",
   "metadata": {},
   "outputs": [],
   "source": []
  },
  {
   "cell_type": "code",
   "execution_count": null,
   "id": "ea6acf3d-4ae5-47b5-97e9-d40231170db6",
   "metadata": {},
   "outputs": [],
   "source": [
    "\n",
    "import tkinter as tk\n",
    "from tkinter import filedialog\n",
    "\n",
    "def ouvrir_fichier():\n",
    "    chemin = filedialog.askopenfilename(\n",
    "        title=\"Choisir un fichier\",\n",
    "        filetypes=[(\"Fichiers texte\", \"*.txt\"), (\"Tous les fichiers\", \"*.*\")]\n",
    "    )\n",
    "    if chemin:\n",
    "        with open(chemin, \"r\", encoding=\"utf-8\") as f:\n",
    "            contenu = f.read()\n",
    "        text_widget.delete(\"1.0\", tk.END)\n",
    "        text_widget.insert(tk.END, contenu)\n",
    "\n",
    "root = tk.Tk()\n",
    "root.title(\"Ouverture de fichier\")\n",
    "\n",
    "# Zone de texte\n",
    "text_widget = tk.Text(root, width=50, height=15)\n",
    "text_widget.pack(pady=10)\n",
    "\n",
    "# Bouton ouvrir\n",
    "btn = tk.Button(root, text=\"Ouvrir un fichier\", command=ouvrir_fichier)\n",
    "btn.pack()\n",
    "\n",
    "root.mainloop()\n",
    " "
   ]
  }
 ],
 "metadata": {
  "kernelspec": {
   "display_name": "Python 3 (ipykernel)",
   "language": "python",
   "name": "python3"
  },
  "language_info": {
   "codemirror_mode": {
    "name": "ipython",
    "version": 3
   },
   "file_extension": ".py",
   "mimetype": "text/x-python",
   "name": "python",
   "nbconvert_exporter": "python",
   "pygments_lexer": "ipython3",
   "version": "3.12.7"
  }
 },
 "nbformat": 4,
 "nbformat_minor": 5
}
