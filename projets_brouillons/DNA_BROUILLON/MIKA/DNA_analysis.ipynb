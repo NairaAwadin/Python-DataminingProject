{
 "cells": [
  {
   "cell_type": "markdown",
   "id": "f070cd97-6df7-4a4e-b1d9-3a2a500e4cde",
   "metadata": {},
   "source": [
    "# DNA ANALYSIS"
   ]
  },
  {
   "cell_type": "markdown",
   "id": "c7d94377-3a8d-4dc9-ac1a-facd00cb1b8a",
   "metadata": {},
   "source": [
    "#### Testing open,read text file"
   ]
  },
  {
   "cell_type": "code",
   "execution_count": 313,
   "id": "a5216e0e-c331-49ab-adfe-a1939880599e",
   "metadata": {},
   "outputs": [
    {
     "name": "stdout",
     "output_type": "stream",
     "text": [
      "ATGCAATTGCTCGATTAGATGCBB\n",
      "cgtTAAGGCTXAGCTTACGATxG\n",
      "TTcggaAtcgaTCGGATTAA-N\n",
      "GGCATTcgATAGCTTGGCAATC!\n",
      "ATCGCGATTAA gcgttcggaat\n",
      "CTAGGCTAACGTTAGCgatcga\n",
      "GATCGATGGcatTCGGATCAAG\n",
      "TTAGGCTTACGATC GATTCGGA\n",
      "CGA_TCGTTAAGCTAGCTTGGCA\n",
      "??ATCGATCGGATTAAGCTTGCA\n",
      "<class 'str'>\n"
     ]
    }
   ],
   "source": [
    "# on ouvre le fichier\n",
    "DNAFile_var = open(\"DNAFile.txt\").read()\n",
    "\n",
    "# examiner le fichier + type de variable\n",
    "print(DNAFile_var)\n",
    "print(type(DNAFile_var))"
   ]
  },
  {
   "cell_type": "markdown",
   "id": "3aa8d7a1-6114-4939-9298-2f253e8920f8",
   "metadata": {},
   "source": [
    "#### CAS 1 > Où 1 seul sequence de DNA presente dans le fichier"
   ]
  },
  {
   "cell_type": "code",
   "execution_count": 316,
   "id": "f9289e18-9887-45e6-b420-ff0ec86d0ea5",
   "metadata": {},
   "outputs": [
    {
     "name": "stdout",
     "output_type": "stream",
     "text": [
      "ATGCAATTGCTCGATTAGATGCBBCGTTAAGGCTAGCTTACGATGTTCGGAATCGATCGGATTAANGGCATTCGATAGCTTGGCAATCATCGCGATTAAGCGTTCGGAATCTAGGCTAACGTTAGCGATCGAGATCGATGGCATTCGGATCAAGTTAGGCTTACGATCGATTCGGACGATCGTTAAGCTAGCTTGGCAATCGATCGGATTAAGCTTGCA\n"
     ]
    }
   ],
   "source": [
    "# netoyer le string (garder que des lettres \"ACGTURYSWKMBDHVN\" et mettre tous les char en majuscule)\n",
    "DNA_sequence = \"\".join([char for char in DNAFile_var.upper() if char in \"ACGTURYSWKMBDHVN\"])\n",
    "print(DNA_sequence)"
   ]
  },
  {
   "cell_type": "code",
   "execution_count": 318,
   "id": "97fb6628-e4cc-4c4b-9145-e51c710ec3a5",
   "metadata": {},
   "outputs": [
    {
     "name": "stdout",
     "output_type": "stream",
     "text": [
      "\u001b[34mAT\u001b[0m\u001b[32mGC\u001b[0mA\u001b[34mAT\u001b[0mT\u001b[32mGC\u001b[0mT\u001b[32mCG\u001b[0m\u001b[34mAT\u001b[0m\u001b[34mTA\u001b[0mG\u001b[34mAT\u001b[0m\u001b[32mGC\u001b[0mBB\u001b[32mCG\u001b[0mT\u001b[34mTA\u001b[0mAG\u001b[32mGC\u001b[0m\u001b[34mTA\u001b[0m\u001b[32mGC\u001b[0mT\u001b[34mTA\u001b[0m\u001b[32mCG\u001b[0m\u001b[34mAT\u001b[0mGTT\u001b[32mCG\u001b[0mGA\u001b[34mAT\u001b[0m\u001b[32mCG\u001b[0m\u001b[34mAT\u001b[0m\u001b[32mCG\u001b[0mG\u001b[34mAT\u001b[0m\u001b[34mTA\u001b[0mANG\u001b[32mGC\u001b[0m\u001b[34mAT\u001b[0mT\u001b[32mCG\u001b[0m\u001b[34mAT\u001b[0mA\u001b[32mGC\u001b[0mTTG\u001b[32mGC\u001b[0mA\u001b[34mAT\u001b[0mC\u001b[34mAT\u001b[0m\u001b[32mCG\u001b[0m\u001b[32mCG\u001b[0m\u001b[34mAT\u001b[0m\u001b[34mTA\u001b[0mA\u001b[32mGC\u001b[0mGTT\u001b[32mCG\u001b[0mGA\u001b[34mAT\u001b[0mC\u001b[34mTA\u001b[0mG\u001b[32mGC\u001b[0m\u001b[34mTA\u001b[0mA\u001b[32mCG\u001b[0mT\u001b[34mTA\u001b[0m\u001b[32mGC\u001b[0mG\u001b[34mAT\u001b[0m\u001b[32mCG\u001b[0mAG\u001b[34mAT\u001b[0m\u001b[32mCG\u001b[0m\u001b[34mAT\u001b[0mG\u001b[32mGC\u001b[0m\u001b[34mAT\u001b[0mT\u001b[32mCG\u001b[0mG\u001b[34mAT\u001b[0mCAAGT\u001b[34mTA\u001b[0mG\u001b[32mGC\u001b[0mT\u001b[34mTA\u001b[0m\u001b[32mCG\u001b[0m\u001b[34mAT\u001b[0m\u001b[32mCG\u001b[0m\u001b[34mAT\u001b[0mT\u001b[32mCG\u001b[0mGA\u001b[32mCG\u001b[0m\u001b[34mAT\u001b[0m\u001b[32mCG\u001b[0mT\u001b[34mTA\u001b[0mA\u001b[32mGC\u001b[0m\u001b[34mTA\u001b[0m\u001b[32mGC\u001b[0mTTG\u001b[32mGC\u001b[0mA\u001b[34mAT\u001b[0m\u001b[32mCG\u001b[0m\u001b[34mAT\u001b[0m\u001b[32mCG\u001b[0mG\u001b[34mAT\u001b[0m\u001b[34mTA\u001b[0mA\u001b[32mGC\u001b[0mTT\u001b[32mGC\u001b[0m - Counts (GC/CG) : 39 - Counts (AT/TA) : 39\n"
     ]
    },
    {
     "data": {
      "text/plain": [
       "(39, 39)"
      ]
     },
     "execution_count": 318,
     "metadata": {},
     "output_type": "execute_result"
    }
   ],
   "source": [
    "#compter sequence de CG ou GC \n",
    "def count_sequence(input_sequence):\n",
    "    #-------------------variables-------------------\n",
    "    colored_sequence = \"\" #sequence coloré\n",
    "    countGC = 0 # numero de sequence GC/CG trouvé\n",
    "    countAT = 0\n",
    "    i = 0 #index pour looping\n",
    "\n",
    "\n",
    "    #-------------------loop-------------------\n",
    "    # i pour index, c pour charactere\n",
    "    while (i + 1 < len(input_sequence)):\n",
    "        # detecter sequence CG/GC\n",
    "        if (input_sequence[i] == 'C' and input_sequence[i+1] == 'G') or (input_sequence[i] == 'G' and input_sequence[i+1] == 'C'):\n",
    "            # colorer sequence trouvé en vert\n",
    "            colored_sequence += f\"\\033[32m{input_sequence[i]+input_sequence[i+1]}\\033[0m\"\n",
    "            countGC += 1\n",
    "            i += 1\n",
    "        elif (input_sequence[i] == 'A' and input_sequence[i+1] == 'T') or (input_sequence[i] == 'T' and input_sequence[i+1] == 'A'):\n",
    "            # colorer sequence trouvé en vert\n",
    "            colored_sequence += f\"\\033[34m{input_sequence[i]+input_sequence[i+1]}\\033[0m\"\n",
    "            countAT += 1\n",
    "            i += 1\n",
    "        else :\n",
    "            colored_sequence += input_sequence[i]\n",
    "        i+=1\n",
    "\n",
    "\n",
    "    #-------------------Affichage/Debug-------------------\n",
    "        #print(i,len(input_sequence),input_sequence[i])\n",
    "    if i+1 == len(input_sequence) and (input_sequence[i] == 'G' or input_sequence[i] == 'C'):\n",
    "        colored_sequence += input_sequence[i]\n",
    "        \n",
    "    print(f\"{colored_sequence} - Counts (GC/CG) : {countGC} - Counts (AT/TA) : {countAT}\")\n",
    "    #print(len(colored_sequence)==len(input_sequence))\n",
    "\n",
    "\n",
    "    #-------------------return-------------------\n",
    "    return countGC,countAT\n",
    "\n",
    "count_sequence(DNA_sequence)"
   ]
  },
  {
   "cell_type": "markdown",
   "id": "eec16555-d522-4bb2-88c5-3574ed1e755f",
   "metadata": {},
   "source": [
    "#### Statistics"
   ]
  },
  {
   "cell_type": "code",
   "execution_count": 321,
   "id": "e554a082-5c94-4aa6-ac04-1567d1f460e9",
   "metadata": {},
   "outputs": [
    {
     "name": "stdout",
     "output_type": "stream",
     "text": [
      "\u001b[34mAT\u001b[0m\u001b[32mGC\u001b[0mA\u001b[34mAT\u001b[0mT\u001b[32mGC\u001b[0mT\u001b[32mCG\u001b[0m\u001b[34mAT\u001b[0m\u001b[34mTA\u001b[0mG\u001b[34mAT\u001b[0m\u001b[32mGC\u001b[0mBB\u001b[32mCG\u001b[0mT\u001b[34mTA\u001b[0mAG\u001b[32mGC\u001b[0m\u001b[34mTA\u001b[0m\u001b[32mGC\u001b[0mT\u001b[34mTA\u001b[0m\u001b[32mCG\u001b[0m\u001b[34mAT\u001b[0mGTT\u001b[32mCG\u001b[0mGA\u001b[34mAT\u001b[0m\u001b[32mCG\u001b[0m\u001b[34mAT\u001b[0m\u001b[32mCG\u001b[0mG\u001b[34mAT\u001b[0m\u001b[34mTA\u001b[0mANG\u001b[32mGC\u001b[0m\u001b[34mAT\u001b[0mT\u001b[32mCG\u001b[0m\u001b[34mAT\u001b[0mA\u001b[32mGC\u001b[0mTTG\u001b[32mGC\u001b[0mA\u001b[34mAT\u001b[0mC\u001b[34mAT\u001b[0m\u001b[32mCG\u001b[0m\u001b[32mCG\u001b[0m\u001b[34mAT\u001b[0m\u001b[34mTA\u001b[0mA\u001b[32mGC\u001b[0mGTT\u001b[32mCG\u001b[0mGA\u001b[34mAT\u001b[0mC\u001b[34mTA\u001b[0mG\u001b[32mGC\u001b[0m\u001b[34mTA\u001b[0mA\u001b[32mCG\u001b[0mT\u001b[34mTA\u001b[0m\u001b[32mGC\u001b[0mG\u001b[34mAT\u001b[0m\u001b[32mCG\u001b[0mAG\u001b[34mAT\u001b[0m\u001b[32mCG\u001b[0m\u001b[34mAT\u001b[0mG\u001b[32mGC\u001b[0m\u001b[34mAT\u001b[0mT\u001b[32mCG\u001b[0mG\u001b[34mAT\u001b[0mCAAGT\u001b[34mTA\u001b[0mG\u001b[32mGC\u001b[0mT\u001b[34mTA\u001b[0m\u001b[32mCG\u001b[0m\u001b[34mAT\u001b[0m\u001b[32mCG\u001b[0m\u001b[34mAT\u001b[0mT\u001b[32mCG\u001b[0mGA\u001b[32mCG\u001b[0m\u001b[34mAT\u001b[0m\u001b[32mCG\u001b[0mT\u001b[34mTA\u001b[0mA\u001b[32mGC\u001b[0m\u001b[34mTA\u001b[0m\u001b[32mGC\u001b[0mTTG\u001b[32mGC\u001b[0mA\u001b[34mAT\u001b[0m\u001b[32mCG\u001b[0m\u001b[34mAT\u001b[0m\u001b[32mCG\u001b[0mG\u001b[34mAT\u001b[0m\u001b[34mTA\u001b[0mA\u001b[32mGC\u001b[0mTT\u001b[32mGC\u001b[0m - Counts (GC/CG) : 39 - Counts (AT/TA) : 39\n",
      "Fréquence de CG/GC : 35.78%\n",
      "Fréquence de AT/TA : 35.78%\n",
      "Ratio (CG/GC) over (AT/TA) : 1.0\n",
      "Ratio (AT/TA) over (CG/GC) : 1.0\n"
     ]
    }
   ],
   "source": [
    "import matplotlib.pyplot as plt\n",
    "import math\n",
    "\n",
    "counts = count_sequence(DNA_sequence)\n",
    "total_pairs = math.floor(len(DNA_sequence)/2)\n",
    "sequence_labels = (\"CG/GC\",\"AT/TA\")\n",
    "for i in range(2):\n",
    "    print(f\"Fréquence de {sequence_labels[i]} : {((counts[i]/total_pairs)*100):.2f}%\")\n",
    "\n",
    "print(f\"Ratio (CG/GC) over (AT/TA) : {counts[0]/counts[1]}\")\n",
    "print(f\"Ratio (AT/TA) over (CG/GC) : {counts[1]/counts[0]}\")"
   ]
  },
  {
   "cell_type": "code",
   "execution_count": null,
   "id": "a4b64c68-134c-43c3-a202-6fa8bed59d32",
   "metadata": {},
   "outputs": [],
   "source": []
  },
  {
   "cell_type": "markdown",
   "id": "d65c61f0-8f5d-4bd0-9a88-c34893ee29f6",
   "metadata": {},
   "source": [
    "#### CASE 2 > Où chaque ligne est une sequence de DNA dans le fichier"
   ]
  },
  {
   "cell_type": "code",
   "execution_count": 328,
   "id": "f6d1edb2-4e24-4d4c-8a4e-5b714342ed2e",
   "metadata": {},
   "outputs": [
    {
     "name": "stdout",
     "output_type": "stream",
     "text": [
      "ATGCAATTGCTCGATTAGATGCBB\n",
      "CGTTAAGGCTAGCTTACGATG\n",
      "TTCGGAATCGATCGGATTAAN\n",
      "GGCATTCGATAGCTTGGCAATC\n",
      "ATCGCGATTAAGCGTTCGGAAT\n",
      "CTAGGCTAACGTTAGCGATCGA\n",
      "GATCGATGGCATTCGGATCAAG\n",
      "TTAGGCTTACGATCGATTCGGA\n",
      "CGATCGTTAAGCTAGCTTGGCA\n",
      "ATCGATCGGATTAAGCTTGCA\n"
     ]
    }
   ],
   "source": [
    "DNA_sequences = \"\".join([char for char in DNAFile_var.upper() if char in \"ACGTURYSWKMBDHVN\\n\"])\n",
    "print(DNA_sequences)"
   ]
  },
  {
   "cell_type": "code",
   "execution_count": 330,
   "id": "15f99472-3d5e-4de8-9f2f-4fadf9346586",
   "metadata": {},
   "outputs": [
    {
     "name": "stdout",
     "output_type": "stream",
     "text": [
      "['ATGCAATTGCTCGATTAGATGCBB', 'CGTTAAGGCTAGCTTACGATG', 'TTCGGAATCGATCGGATTAAN', 'GGCATTCGATAGCTTGGCAATC', 'ATCGCGATTAAGCGTTCGGAAT', 'CTAGGCTAACGTTAGCGATCGA', 'GATCGATGGCATTCGGATCAAG', 'TTAGGCTTACGATCGATTCGGA', 'CGATCGTTAAGCTAGCTTGGCA', 'ATCGATCGGATTAAGCTTGCA']\n"
     ]
    }
   ],
   "source": [
    "#separer les sequences et les ajouter dans un list\n",
    "list_sequences = DNA_sequences.split('\\n')\n",
    "print(list_sequences)"
   ]
  },
  {
   "cell_type": "code",
   "execution_count": 332,
   "id": "98d1d73d-4788-423d-8833-48c25668ec87",
   "metadata": {},
   "outputs": [
    {
     "name": "stdout",
     "output_type": "stream",
     "text": [
      "{'ID1': 'ATGCAATTGCTCGATTAGATGCBB', 'ID2': 'CGTTAAGGCTAGCTTACGATG', 'ID3': 'TTCGGAATCGATCGGATTAAN', 'ID4': 'GGCATTCGATAGCTTGGCAATC', 'ID5': 'ATCGCGATTAAGCGTTCGGAAT', 'ID6': 'CTAGGCTAACGTTAGCGATCGA', 'ID7': 'GATCGATGGCATTCGGATCAAG', 'ID8': 'TTAGGCTTACGATCGATTCGGA', 'ID9': 'CGATCGTTAAGCTAGCTTGGCA', 'ID10': 'ATCGATCGGATTAAGCTTGCA'}\n"
     ]
    }
   ],
   "source": [
    "#mettre ces sequences dans un dictionaire avec identifiers\n",
    "dict_sequences = {f\"ID{i+1}\": s for i,s in enumerate(list_sequences)}\n",
    "print(dict_sequences)"
   ]
  },
  {
   "cell_type": "code",
   "execution_count": 374,
   "id": "1a63c436-2768-4a9c-8a90-be5f7757f05a",
   "metadata": {},
   "outputs": [
    {
     "name": "stdout",
     "output_type": "stream",
     "text": [
      "\n",
      "[ID1]\n",
      "\u001b[34mAT\u001b[0m\u001b[32mGC\u001b[0mA\u001b[34mAT\u001b[0mT\u001b[32mGC\u001b[0mT\u001b[32mCG\u001b[0m\u001b[34mAT\u001b[0m\u001b[34mTA\u001b[0mG\u001b[34mAT\u001b[0m\u001b[32mGC\u001b[0mB - Counts (GC/CG) : 4 - Counts (AT/TA) : 5\n",
      "(GC/CG) : 33.33%\n",
      "(AT/TA) : 41.67%\n",
      "Total pairs :  12\n",
      "\n",
      "[ID2]\n",
      "\u001b[32mCG\u001b[0mT\u001b[34mTA\u001b[0mAG\u001b[32mGC\u001b[0m\u001b[34mTA\u001b[0m\u001b[32mGC\u001b[0mT\u001b[34mTA\u001b[0m\u001b[32mCG\u001b[0m\u001b[34mAT\u001b[0mG - Counts (GC/CG) : 4 - Counts (AT/TA) : 4\n",
      "(GC/CG) : 40.00%\n",
      "(AT/TA) : 40.00%\n",
      "Total pairs :  10\n",
      "\n",
      "[ID3]\n",
      "TT\u001b[32mCG\u001b[0mGA\u001b[34mAT\u001b[0m\u001b[32mCG\u001b[0m\u001b[34mAT\u001b[0m\u001b[32mCG\u001b[0mG\u001b[34mAT\u001b[0m\u001b[34mTA\u001b[0mA - Counts (GC/CG) : 3 - Counts (AT/TA) : 4\n",
      "(GC/CG) : 30.00%\n",
      "(AT/TA) : 40.00%\n",
      "Total pairs :  10\n",
      "\n",
      "[ID4]\n",
      "G\u001b[32mGC\u001b[0m\u001b[34mAT\u001b[0mT\u001b[32mCG\u001b[0m\u001b[34mAT\u001b[0mA\u001b[32mGC\u001b[0mTTG\u001b[32mGC\u001b[0mA\u001b[34mAT\u001b[0mC - Counts (GC/CG) : 4 - Counts (AT/TA) : 3\n",
      "(GC/CG) : 36.36%\n",
      "(AT/TA) : 27.27%\n",
      "Total pairs :  11\n",
      "\n",
      "[ID5]\n",
      "\u001b[34mAT\u001b[0m\u001b[32mCG\u001b[0m\u001b[32mCG\u001b[0m\u001b[34mAT\u001b[0m\u001b[34mTA\u001b[0mA\u001b[32mGC\u001b[0mGTT\u001b[32mCG\u001b[0mGA\u001b[34mAT\u001b[0m - Counts (GC/CG) : 4 - Counts (AT/TA) : 4\n",
      "(GC/CG) : 36.36%\n",
      "(AT/TA) : 36.36%\n",
      "Total pairs :  11\n",
      "\n",
      "[ID6]\n",
      "C\u001b[34mTA\u001b[0mG\u001b[32mGC\u001b[0m\u001b[34mTA\u001b[0mA\u001b[32mCG\u001b[0mT\u001b[34mTA\u001b[0m\u001b[32mGC\u001b[0mG\u001b[34mAT\u001b[0m\u001b[32mCG\u001b[0m - Counts (GC/CG) : 4 - Counts (AT/TA) : 4\n",
      "(GC/CG) : 36.36%\n",
      "(AT/TA) : 36.36%\n",
      "Total pairs :  11\n",
      "\n",
      "[ID7]\n",
      "G\u001b[34mAT\u001b[0m\u001b[32mCG\u001b[0m\u001b[34mAT\u001b[0mG\u001b[32mGC\u001b[0m\u001b[34mAT\u001b[0mT\u001b[32mCG\u001b[0mG\u001b[34mAT\u001b[0mCAAG - Counts (GC/CG) : 3 - Counts (AT/TA) : 4\n",
      "(GC/CG) : 27.27%\n",
      "(AT/TA) : 36.36%\n",
      "Total pairs :  11\n",
      "\n",
      "[ID8]\n",
      "T\u001b[34mTA\u001b[0mG\u001b[32mGC\u001b[0mT\u001b[34mTA\u001b[0m\u001b[32mCG\u001b[0m\u001b[34mAT\u001b[0m\u001b[32mCG\u001b[0m\u001b[34mAT\u001b[0mT\u001b[32mCG\u001b[0mG - Counts (GC/CG) : 4 - Counts (AT/TA) : 4\n",
      "(GC/CG) : 36.36%\n",
      "(AT/TA) : 36.36%\n",
      "Total pairs :  11\n",
      "\n",
      "[ID9]\n",
      "\u001b[32mCG\u001b[0m\u001b[34mAT\u001b[0m\u001b[32mCG\u001b[0mT\u001b[34mTA\u001b[0mA\u001b[32mGC\u001b[0m\u001b[34mTA\u001b[0m\u001b[32mGC\u001b[0mTTG\u001b[32mGC\u001b[0m - Counts (GC/CG) : 5 - Counts (AT/TA) : 3\n",
      "(GC/CG) : 45.45%\n",
      "(AT/TA) : 27.27%\n",
      "Total pairs :  11\n",
      "\n",
      "[ID10]\n",
      "\u001b[34mAT\u001b[0m\u001b[32mCG\u001b[0m\u001b[34mAT\u001b[0m\u001b[32mCG\u001b[0mG\u001b[34mAT\u001b[0m\u001b[34mTA\u001b[0mA\u001b[32mGC\u001b[0mTT\u001b[32mGC\u001b[0m - Counts (GC/CG) : 4 - Counts (AT/TA) : 4\n",
      "(GC/CG) : 40.00%\n",
      "(AT/TA) : 40.00%\n",
      "Total pairs :  10\n"
     ]
    }
   ],
   "source": [
    "dict_frequencies_GC = {} # structure: key of the sequence (identifier) + frequency of having (CG/GC) sequence\n",
    "dict_frequencies_AT = {}\n",
    "\n",
    "for identifier , sequence in dict_sequences.items():\n",
    "    print(f\"\\n[{identifier}]\")\n",
    "    counts = count_sequence(sequence)\n",
    "    total_pairs = math.floor(len(sequence)/2)\n",
    "    \n",
    "    dict_frequencies_GC[identifier] = (counts[0]/total_pairs)*100\n",
    "    dict_frequencies_AT[identifier] = (counts[1]/total_pairs)*100\n",
    "    print(f\"(GC/CG) : {dict_frequencies_GC[identifier]:.02f}%\")\n",
    "    print(f\"(AT/TA) : {dict_frequencies_AT[identifier]:.02f}%\")\n",
    "    print(\"Total pairs : \",total_pairs)"
   ]
  },
  {
   "cell_type": "code",
   "execution_count": 340,
   "id": "f331a855-2d6a-43c0-a700-e5f1038fcac5",
   "metadata": {},
   "outputs": [
    {
     "name": "stdout",
     "output_type": "stream",
     "text": [
      "{'ID1': 33.33333333333333, 'ID2': 40.0, 'ID3': 30.0, 'ID4': 36.36363636363637, 'ID5': 36.36363636363637, 'ID6': 36.36363636363637, 'ID7': 27.27272727272727, 'ID8': 36.36363636363637, 'ID9': 45.45454545454545, 'ID10': 40.0}\n",
      "{'ID1': 41.66666666666667, 'ID2': 40.0, 'ID3': 40.0, 'ID4': 27.27272727272727, 'ID5': 36.36363636363637, 'ID6': 36.36363636363637, 'ID7': 36.36363636363637, 'ID8': 36.36363636363637, 'ID9': 27.27272727272727, 'ID10': 40.0}\n"
     ]
    }
   ],
   "source": [
    "print(dict_frequencies_GC)\n",
    "print(dict_frequencies_AT)"
   ]
  },
  {
   "cell_type": "markdown",
   "id": "7d8e83b4-99e8-4696-82be-6299a98667e7",
   "metadata": {},
   "source": [
    "### Rapport Statistics"
   ]
  },
  {
   "cell_type": "code",
   "execution_count": 413,
   "id": "c526d769-1a1a-4dc5-a675-d0a7e6deec7a",
   "metadata": {},
   "outputs": [
    {
     "name": "stdout",
     "output_type": "stream",
     "text": [
      "Moy GC : 36.15%\n",
      "Moy AT : 36.17%\n"
     ]
    }
   ],
   "source": [
    "#Cherche de la moyen frequence d'apparition de (CG/GC) et (AT/TA)\n",
    "def get_average(dict_fre):\n",
    "    list_values = list(dict_fre.values())\n",
    "    #print(list_values)\n",
    "    if list_values :\n",
    "        return sum(list_values)/len(list_values)\n",
    "average_GC = get_average(dict_frequencies_GC)\n",
    "average_AT = get_average(dict_frequencies_AT)\n",
    "print(f\"Moy GC : {average_GC:.02f}%\\nMoy AT : {average_AT:.02f}%\")"
   ]
  },
  {
   "cell_type": "code",
   "execution_count": 405,
   "id": "e59fc41a-8a73-4e34-908f-4c867a3b2d86",
   "metadata": {},
   "outputs": [],
   "source": [
    "#plotting\n",
    "def plot_stat(graph_title=\"none\",average_val = None,dict_fre=None,bar_color=None):\n",
    "    list_ids = list(dict_fre.keys())\n",
    "    list_fre = list(dict_fre.values())\n",
    "    plt.bar(list_ids,list_fre,color = bar_color)\n",
    "    if average_val :\n",
    "        plt.axhline(y=average_GC,color=\"red\",linestyle=\"-\",linewidth=2)\n",
    "    plt.title(graph_title)\n",
    "    plt.xlabel(\"Sequence ID\")\n",
    "    plt.ylabel(\"Frequence (%)\")\n",
    "    plt.show()"
   ]
  },
  {
   "cell_type": "code",
   "execution_count": 407,
   "id": "85d3bbf9-0de0-4c08-8c26-f59c296a12d3",
   "metadata": {},
   "outputs": [
    {
     "data": {
      "image/png": "[encoded data removed]",
      "text/plain": [
       "<Figure size 640x480 with 1 Axes>"
      ]
     },
     "metadata": {},
     "output_type": "display_data"
    },
    {
     "data": {
      "image/png": "[encoded data removed]",
      "text/plain": [
       "<Figure size 640x480 with 1 Axes>"
      ]
     },
     "metadata": {},
     "output_type": "display_data"
    }
   ],
   "source": [
    "plot_stat(graph_title=\"Frequence CG/GC\",average_val = average_GC,dict_fre=dict_frequencies_GC,bar_color=\"green\")\n",
    "plot_stat(graph_title=\"Frequence AT/TA\",average_val = average_AT,dict_fre=dict_frequencies_AT)"
   ]
  },
  {
   "cell_type": "code",
   "execution_count": null,
   "id": "bd79c3d0-6de0-43b8-9d82-a8b08ba9de52",
   "metadata": {},
   "outputs": [],
   "source": []
  },
  {
   "cell_type": "code",
   "execution_count": null,
   "id": "e73f8978-a8b7-4979-99ee-08fc1ddcd675",
   "metadata": {},
   "outputs": [],
   "source": []
  },
  {
   "cell_type": "code",
   "execution_count": null,
   "id": "1e529581-6896-45f3-b45b-8664481515e8",
   "metadata": {},
   "outputs": [],
   "source": []
  }
 ],
 "metadata": {
  "kernelspec": {
   "display_name": "Python 3 (ipykernel)",
   "language": "python",
   "name": "python3"
  },
  "language_info": {
   "codemirror_mode": {
    "name": "ipython",
    "version": 3
   },
   "file_extension": ".py",
   "mimetype": "text/x-python",
   "name": "python",
   "nbconvert_exporter": "python",
   "pygments_lexer": "ipython3",
   "version": "3.12.7"
  }
 },
 "nbformat": 4,
 "nbformat_minor": 5
}
